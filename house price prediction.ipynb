{
 "cells": [
  {
   "cell_type": "markdown",
   "metadata": {},
   "source": [
    "# Housing Price Predictor\n"
   ]
  },
  {
   "cell_type": "markdown",
   "metadata": {},
   "source": [
    "This notebook is based off of the Kaggle intro to machine learning course. The code from this course is altered to reflect my data. I do not use the data from the kaggle course. Instead, I have used the RapidAPI to generate 200 listings from the Minneapolis, MN. I then convert the JSON Format into a Pandas DataFrame and get to work on learning decision trees."
   ]
  },
  {
   "cell_type": "code",
   "execution_count": 1,
   "metadata": {},
   "outputs": [],
   "source": [
    "import pandas as pd\n",
    "import numpy as np\n",
    "\n",
    "import json\n",
    "import requests"
   ]
  },
  {
   "cell_type": "code",
   "execution_count": 2,
   "metadata": {},
   "outputs": [
    {
     "name": "stdout",
     "output_type": "stream",
     "text": [
      "200\n"
     ]
    }
   ],
   "source": [
    "#Explore structure of the data\n",
    "filename = 'readable_realty_data.json'\n",
    "with open(filename) as f:\n",
    "    readable_realty_data = json.load(f)\n",
    "\n",
    "readable_realty_data = readable_realty_data['properties']\n",
    "print(len(readable_realty_data))"
   ]
  },
  {
   "cell_type": "code",
   "execution_count": 3,
   "metadata": {},
   "outputs": [],
   "source": [
    "#extracting the data\n",
    "prop_ids, urls, cities, lines, postal_codes, counties, lats, lons, prices, baths_fulls, bedrooms, building_sizes, lot_sizes  =[],[],[],[], [], [], [], [],[],[], [], [], []\n",
    "\n",
    "\n",
    "for data in readable_realty_data:\n",
    "    prop_id = data['property_id']\n",
    "    url = data['rdc_web_url']\n",
    "    city = data['address']['city']\n",
    "    line = data['address']['line']   \n",
    "    postal_code = data['address']['postal_code']\n",
    "    county = data['address']['county']\n",
    "    lat = data['address']['lat']\n",
    "    lon = data['address']['lon']\n",
    "    price = data['price']\n",
    "    baths_full = data['baths_full']\n",
    "    bedroom = data['beds']\n",
    "    building_size = data['building_size']['size']\n",
    "    lot_size = data['lot_size']['size']\n",
    "    \n",
    "    \n",
    "    \n",
    "    prop_ids.append(prop_id)\n",
    "    urls.append(url)\n",
    "    cities.append(city)\n",
    "    lines.append(line)\n",
    "    postal_codes.append(postal_code)\n",
    "    counties.append(county)\n",
    "    lats.append(lat)\n",
    "    lons.append(lon)\n",
    "    prices.append(price)\n",
    "    baths_fulls.append(baths_full)\n",
    "    bedrooms.append(bedroom)\n",
    "    building_sizes.append(building_size)\n",
    "    lot_sizes.append(lot_size)"
   ]
  },
  {
   "cell_type": "code",
   "execution_count": 4,
   "metadata": {},
   "outputs": [],
   "source": [
    "# converting json dataset from dictionary to dataframe\n",
    "df = pd.DataFrame([prop_ids,urls,cities,lines, postal_codes, counties, lats, lons, prices,baths_fulls, bedrooms, building_sizes, lot_sizes]).T\n",
    "\n"
   ]
  },
  {
   "cell_type": "code",
   "execution_count": 5,
   "metadata": {},
   "outputs": [],
   "source": [
    "#Rename the data\n",
    "df = df.rename(columns = {0:'prop_ids',1:'urls',2:'cities',3:'lines', 4:'postal_codes', 5:'counties', 6:'lats', 7:'lons', 8:'prices', 9:'baths_fulls',10:'bedrooms',11:'building_sizes', 12:'lot_sizes'})\n"
   ]
  },
  {
   "cell_type": "code",
   "execution_count": 6,
   "metadata": {},
   "outputs": [
    {
     "data": {
      "text/html": [
       "<div>\n",
       "<style scoped>\n",
       "    .dataframe tbody tr th:only-of-type {\n",
       "        vertical-align: middle;\n",
       "    }\n",
       "\n",
       "    .dataframe tbody tr th {\n",
       "        vertical-align: top;\n",
       "    }\n",
       "\n",
       "    .dataframe thead th {\n",
       "        text-align: right;\n",
       "    }\n",
       "</style>\n",
       "<table border=\"1\" class=\"dataframe\">\n",
       "  <thead>\n",
       "    <tr style=\"text-align: right;\">\n",
       "      <th></th>\n",
       "      <th>prop_ids</th>\n",
       "      <th>urls</th>\n",
       "      <th>cities</th>\n",
       "      <th>lines</th>\n",
       "      <th>postal_codes</th>\n",
       "      <th>counties</th>\n",
       "      <th>lats</th>\n",
       "      <th>lons</th>\n",
       "      <th>prices</th>\n",
       "      <th>baths_fulls</th>\n",
       "      <th>bedrooms</th>\n",
       "      <th>building_sizes</th>\n",
       "      <th>lot_sizes</th>\n",
       "    </tr>\n",
       "  </thead>\n",
       "  <tbody>\n",
       "    <tr>\n",
       "      <th>0</th>\n",
       "      <td>M7927081518</td>\n",
       "      <td>https://www.realtor.com/realestateandhomes-det...</td>\n",
       "      <td>Saint Paul</td>\n",
       "      <td>79 Cretin Ave N</td>\n",
       "      <td>55104</td>\n",
       "      <td>Ramsey</td>\n",
       "      <td>44.944</td>\n",
       "      <td>-93.1928</td>\n",
       "      <td>600000</td>\n",
       "      <td>2</td>\n",
       "      <td>4</td>\n",
       "      <td>3143</td>\n",
       "      <td>14375</td>\n",
       "    </tr>\n",
       "    <tr>\n",
       "      <th>1</th>\n",
       "      <td>M8412373846</td>\n",
       "      <td>https://www.realtor.com/realestateandhomes-det...</td>\n",
       "      <td>Minneapolis</td>\n",
       "      <td>1716 Tyler St NE</td>\n",
       "      <td>55413</td>\n",
       "      <td>Hennepin</td>\n",
       "      <td>45.0055</td>\n",
       "      <td>-93.2465</td>\n",
       "      <td>475000</td>\n",
       "      <td>3</td>\n",
       "      <td>5</td>\n",
       "      <td>2448</td>\n",
       "      <td>8276</td>\n",
       "    </tr>\n",
       "    <tr>\n",
       "      <th>2</th>\n",
       "      <td>M7324092858</td>\n",
       "      <td>https://www.realtor.com/realestateandhomes-det...</td>\n",
       "      <td>Eagan</td>\n",
       "      <td>2094 Quartz Ln</td>\n",
       "      <td>55122</td>\n",
       "      <td>Dakota</td>\n",
       "      <td>44.8001</td>\n",
       "      <td>-93.2149</td>\n",
       "      <td>324900</td>\n",
       "      <td>2</td>\n",
       "      <td>4</td>\n",
       "      <td>1620</td>\n",
       "      <td>9017</td>\n",
       "    </tr>\n",
       "    <tr>\n",
       "      <th>3</th>\n",
       "      <td>M8405448159</td>\n",
       "      <td>https://www.realtor.com/realestateandhomes-det...</td>\n",
       "      <td>Robbinsdale</td>\n",
       "      <td>3628 Regent Ave N</td>\n",
       "      <td>55422</td>\n",
       "      <td>Hennepin</td>\n",
       "      <td>45.0214</td>\n",
       "      <td>-93.3437</td>\n",
       "      <td>314999</td>\n",
       "      <td>2</td>\n",
       "      <td>4</td>\n",
       "      <td>2255</td>\n",
       "      <td>5227</td>\n",
       "    </tr>\n",
       "    <tr>\n",
       "      <th>4</th>\n",
       "      <td>M8627783588</td>\n",
       "      <td>https://www.realtor.com/realestateandhomes-det...</td>\n",
       "      <td>Saint Louis Park</td>\n",
       "      <td>2732 Joppa Ave S</td>\n",
       "      <td>55416</td>\n",
       "      <td>Hennepin</td>\n",
       "      <td>44.9531</td>\n",
       "      <td>-93.3345</td>\n",
       "      <td>649900</td>\n",
       "      <td>3</td>\n",
       "      <td>3</td>\n",
       "      <td>2571</td>\n",
       "      <td>6098</td>\n",
       "    </tr>\n",
       "  </tbody>\n",
       "</table>\n",
       "</div>"
      ],
      "text/plain": [
       "      prop_ids                                               urls  \\\n",
       "0  M7927081518  https://www.realtor.com/realestateandhomes-det...   \n",
       "1  M8412373846  https://www.realtor.com/realestateandhomes-det...   \n",
       "2  M7324092858  https://www.realtor.com/realestateandhomes-det...   \n",
       "3  M8405448159  https://www.realtor.com/realestateandhomes-det...   \n",
       "4  M8627783588  https://www.realtor.com/realestateandhomes-det...   \n",
       "\n",
       "             cities              lines postal_codes  counties     lats  \\\n",
       "0        Saint Paul    79 Cretin Ave N        55104    Ramsey   44.944   \n",
       "1       Minneapolis   1716 Tyler St NE        55413  Hennepin  45.0055   \n",
       "2             Eagan     2094 Quartz Ln        55122    Dakota  44.8001   \n",
       "3       Robbinsdale  3628 Regent Ave N        55422  Hennepin  45.0214   \n",
       "4  Saint Louis Park   2732 Joppa Ave S        55416  Hennepin  44.9531   \n",
       "\n",
       "      lons  prices baths_fulls bedrooms building_sizes lot_sizes  \n",
       "0 -93.1928  600000           2        4           3143     14375  \n",
       "1 -93.2465  475000           3        5           2448      8276  \n",
       "2 -93.2149  324900           2        4           1620      9017  \n",
       "3 -93.3437  314999           2        4           2255      5227  \n",
       "4 -93.3345  649900           3        3           2571      6098  "
      ]
     },
     "execution_count": 6,
     "metadata": {},
     "output_type": "execute_result"
    }
   ],
   "source": [
    "df.head()"
   ]
  },
  {
   "cell_type": "code",
   "execution_count": 7,
   "metadata": {},
   "outputs": [
    {
     "data": {
      "text/html": [
       "<div>\n",
       "<style scoped>\n",
       "    .dataframe tbody tr th:only-of-type {\n",
       "        vertical-align: middle;\n",
       "    }\n",
       "\n",
       "    .dataframe tbody tr th {\n",
       "        vertical-align: top;\n",
       "    }\n",
       "\n",
       "    .dataframe thead th {\n",
       "        text-align: right;\n",
       "    }\n",
       "</style>\n",
       "<table border=\"1\" class=\"dataframe\">\n",
       "  <thead>\n",
       "    <tr style=\"text-align: right;\">\n",
       "      <th></th>\n",
       "      <th>prop_ids</th>\n",
       "      <th>urls</th>\n",
       "      <th>cities</th>\n",
       "      <th>lines</th>\n",
       "      <th>postal_codes</th>\n",
       "      <th>counties</th>\n",
       "      <th>lats</th>\n",
       "      <th>lons</th>\n",
       "      <th>prices</th>\n",
       "      <th>baths_fulls</th>\n",
       "      <th>bedrooms</th>\n",
       "      <th>building_sizes</th>\n",
       "      <th>lot_sizes</th>\n",
       "    </tr>\n",
       "  </thead>\n",
       "  <tbody>\n",
       "    <tr>\n",
       "      <th>count</th>\n",
       "      <td>200</td>\n",
       "      <td>200</td>\n",
       "      <td>200</td>\n",
       "      <td>200</td>\n",
       "      <td>200</td>\n",
       "      <td>200</td>\n",
       "      <td>200.00000</td>\n",
       "      <td>200.0000</td>\n",
       "      <td>200</td>\n",
       "      <td>200</td>\n",
       "      <td>200</td>\n",
       "      <td>200</td>\n",
       "      <td>200</td>\n",
       "    </tr>\n",
       "    <tr>\n",
       "      <th>unique</th>\n",
       "      <td>200</td>\n",
       "      <td>200</td>\n",
       "      <td>37</td>\n",
       "      <td>200</td>\n",
       "      <td>62</td>\n",
       "      <td>7</td>\n",
       "      <td>200.00000</td>\n",
       "      <td>199.0000</td>\n",
       "      <td>105</td>\n",
       "      <td>4</td>\n",
       "      <td>7</td>\n",
       "      <td>186</td>\n",
       "      <td>95</td>\n",
       "    </tr>\n",
       "    <tr>\n",
       "      <th>top</th>\n",
       "      <td>M8284753737</td>\n",
       "      <td>https://www.realtor.com/realestateandhomes-det...</td>\n",
       "      <td>Minneapolis</td>\n",
       "      <td>3431 Elliot Ave</td>\n",
       "      <td>55423</td>\n",
       "      <td>Hennepin</td>\n",
       "      <td>44.91405</td>\n",
       "      <td>-93.3725</td>\n",
       "      <td>350000</td>\n",
       "      <td>2</td>\n",
       "      <td>3</td>\n",
       "      <td>2400</td>\n",
       "      <td>5227</td>\n",
       "    </tr>\n",
       "    <tr>\n",
       "      <th>freq</th>\n",
       "      <td>1</td>\n",
       "      <td>1</td>\n",
       "      <td>57</td>\n",
       "      <td>1</td>\n",
       "      <td>13</td>\n",
       "      <td>131</td>\n",
       "      <td>1.00000</td>\n",
       "      <td>2.0000</td>\n",
       "      <td>9</td>\n",
       "      <td>133</td>\n",
       "      <td>93</td>\n",
       "      <td>3</td>\n",
       "      <td>17</td>\n",
       "    </tr>\n",
       "  </tbody>\n",
       "</table>\n",
       "</div>"
      ],
      "text/plain": [
       "           prop_ids                                               urls  \\\n",
       "count           200                                                200   \n",
       "unique          200                                                200   \n",
       "top     M8284753737  https://www.realtor.com/realestateandhomes-det...   \n",
       "freq              1                                                  1   \n",
       "\n",
       "             cities            lines postal_codes  counties       lats  \\\n",
       "count           200              200          200       200  200.00000   \n",
       "unique           37              200           62         7  200.00000   \n",
       "top     Minneapolis  3431 Elliot Ave        55423  Hennepin   44.91405   \n",
       "freq             57                1           13       131    1.00000   \n",
       "\n",
       "            lons  prices  baths_fulls  bedrooms  building_sizes  lot_sizes  \n",
       "count   200.0000     200          200       200             200        200  \n",
       "unique  199.0000     105            4         7             186         95  \n",
       "top     -93.3725  350000            2         3            2400       5227  \n",
       "freq      2.0000       9          133        93               3         17  "
      ]
     },
     "execution_count": 7,
     "metadata": {},
     "output_type": "execute_result"
    }
   ],
   "source": [
    "df.describe()"
   ]
  },
  {
   "cell_type": "markdown",
   "metadata": {},
   "source": [
    "# Decision Trees\n"
   ]
  },
  {
   "cell_type": "markdown",
   "metadata": {},
   "source": [
    "I begin with a simple Decision tree and work my way up."
   ]
  },
  {
   "cell_type": "code",
   "execution_count": 52,
   "metadata": {},
   "outputs": [],
   "source": [
    "#defining dependent variable\n",
    "y = df.prices"
   ]
  },
  {
   "cell_type": "code",
   "execution_count": 53,
   "metadata": {},
   "outputs": [],
   "source": [
    "df_features = ['lats','lons','postal_codes','baths_fulls','bedrooms','building_sizes','lot_sizes']\n"
   ]
  },
  {
   "cell_type": "code",
   "execution_count": 54,
   "metadata": {},
   "outputs": [],
   "source": [
    "#defining Indepenent variables\n",
    "X = df[df_features]"
   ]
  },
  {
   "cell_type": "code",
   "execution_count": 55,
   "metadata": {},
   "outputs": [
    {
     "data": {
      "text/html": [
       "<div>\n",
       "<style scoped>\n",
       "    .dataframe tbody tr th:only-of-type {\n",
       "        vertical-align: middle;\n",
       "    }\n",
       "\n",
       "    .dataframe tbody tr th {\n",
       "        vertical-align: top;\n",
       "    }\n",
       "\n",
       "    .dataframe thead th {\n",
       "        text-align: right;\n",
       "    }\n",
       "</style>\n",
       "<table border=\"1\" class=\"dataframe\">\n",
       "  <thead>\n",
       "    <tr style=\"text-align: right;\">\n",
       "      <th></th>\n",
       "      <th>lats</th>\n",
       "      <th>lons</th>\n",
       "      <th>postal_codes</th>\n",
       "      <th>baths_fulls</th>\n",
       "      <th>bedrooms</th>\n",
       "      <th>building_sizes</th>\n",
       "      <th>lot_sizes</th>\n",
       "    </tr>\n",
       "  </thead>\n",
       "  <tbody>\n",
       "    <tr>\n",
       "      <th>count</th>\n",
       "      <td>200.00000</td>\n",
       "      <td>200.0000</td>\n",
       "      <td>200</td>\n",
       "      <td>200</td>\n",
       "      <td>200</td>\n",
       "      <td>200</td>\n",
       "      <td>200</td>\n",
       "    </tr>\n",
       "    <tr>\n",
       "      <th>unique</th>\n",
       "      <td>200.00000</td>\n",
       "      <td>199.0000</td>\n",
       "      <td>62</td>\n",
       "      <td>4</td>\n",
       "      <td>7</td>\n",
       "      <td>186</td>\n",
       "      <td>95</td>\n",
       "    </tr>\n",
       "    <tr>\n",
       "      <th>top</th>\n",
       "      <td>44.91405</td>\n",
       "      <td>-93.3725</td>\n",
       "      <td>55423</td>\n",
       "      <td>2</td>\n",
       "      <td>3</td>\n",
       "      <td>2400</td>\n",
       "      <td>5227</td>\n",
       "    </tr>\n",
       "    <tr>\n",
       "      <th>freq</th>\n",
       "      <td>1.00000</td>\n",
       "      <td>2.0000</td>\n",
       "      <td>13</td>\n",
       "      <td>133</td>\n",
       "      <td>93</td>\n",
       "      <td>3</td>\n",
       "      <td>17</td>\n",
       "    </tr>\n",
       "  </tbody>\n",
       "</table>\n",
       "</div>"
      ],
      "text/plain": [
       "             lats      lons postal_codes  baths_fulls  bedrooms  \\\n",
       "count   200.00000  200.0000          200          200       200   \n",
       "unique  200.00000  199.0000           62            4         7   \n",
       "top      44.91405  -93.3725        55423            2         3   \n",
       "freq      1.00000    2.0000           13          133        93   \n",
       "\n",
       "        building_sizes  lot_sizes  \n",
       "count              200        200  \n",
       "unique             186         95  \n",
       "top               2400       5227  \n",
       "freq                 3         17  "
      ]
     },
     "execution_count": 55,
     "metadata": {},
     "output_type": "execute_result"
    }
   ],
   "source": [
    "X.describe()"
   ]
  },
  {
   "cell_type": "code",
   "execution_count": 12,
   "metadata": {},
   "outputs": [
    {
     "data": {
      "text/html": [
       "<div>\n",
       "<style scoped>\n",
       "    .dataframe tbody tr th:only-of-type {\n",
       "        vertical-align: middle;\n",
       "    }\n",
       "\n",
       "    .dataframe tbody tr th {\n",
       "        vertical-align: top;\n",
       "    }\n",
       "\n",
       "    .dataframe thead th {\n",
       "        text-align: right;\n",
       "    }\n",
       "</style>\n",
       "<table border=\"1\" class=\"dataframe\">\n",
       "  <thead>\n",
       "    <tr style=\"text-align: right;\">\n",
       "      <th></th>\n",
       "      <th>lats</th>\n",
       "      <th>lons</th>\n",
       "      <th>postal_codes</th>\n",
       "      <th>baths_fulls</th>\n",
       "      <th>bedrooms</th>\n",
       "      <th>building_sizes</th>\n",
       "      <th>lot_sizes</th>\n",
       "    </tr>\n",
       "  </thead>\n",
       "  <tbody>\n",
       "    <tr>\n",
       "      <th>0</th>\n",
       "      <td>44.944</td>\n",
       "      <td>-93.1928</td>\n",
       "      <td>55104</td>\n",
       "      <td>2</td>\n",
       "      <td>4</td>\n",
       "      <td>3143</td>\n",
       "      <td>14375</td>\n",
       "    </tr>\n",
       "    <tr>\n",
       "      <th>1</th>\n",
       "      <td>45.0055</td>\n",
       "      <td>-93.2465</td>\n",
       "      <td>55413</td>\n",
       "      <td>3</td>\n",
       "      <td>5</td>\n",
       "      <td>2448</td>\n",
       "      <td>8276</td>\n",
       "    </tr>\n",
       "    <tr>\n",
       "      <th>2</th>\n",
       "      <td>44.8001</td>\n",
       "      <td>-93.2149</td>\n",
       "      <td>55122</td>\n",
       "      <td>2</td>\n",
       "      <td>4</td>\n",
       "      <td>1620</td>\n",
       "      <td>9017</td>\n",
       "    </tr>\n",
       "    <tr>\n",
       "      <th>3</th>\n",
       "      <td>45.0214</td>\n",
       "      <td>-93.3437</td>\n",
       "      <td>55422</td>\n",
       "      <td>2</td>\n",
       "      <td>4</td>\n",
       "      <td>2255</td>\n",
       "      <td>5227</td>\n",
       "    </tr>\n",
       "    <tr>\n",
       "      <th>4</th>\n",
       "      <td>44.9531</td>\n",
       "      <td>-93.3345</td>\n",
       "      <td>55416</td>\n",
       "      <td>3</td>\n",
       "      <td>3</td>\n",
       "      <td>2571</td>\n",
       "      <td>6098</td>\n",
       "    </tr>\n",
       "  </tbody>\n",
       "</table>\n",
       "</div>"
      ],
      "text/plain": [
       "      lats     lons postal_codes baths_fulls bedrooms building_sizes lot_sizes\n",
       "0   44.944 -93.1928        55104           2        4           3143     14375\n",
       "1  45.0055 -93.2465        55413           3        5           2448      8276\n",
       "2  44.8001 -93.2149        55122           2        4           1620      9017\n",
       "3  45.0214 -93.3437        55422           2        4           2255      5227\n",
       "4  44.9531 -93.3345        55416           3        3           2571      6098"
      ]
     },
     "execution_count": 12,
     "metadata": {},
     "output_type": "execute_result"
    }
   ],
   "source": [
    "X.head()"
   ]
  },
  {
   "cell_type": "code",
   "execution_count": 13,
   "metadata": {},
   "outputs": [],
   "source": [
    "from sklearn.tree import DecisionTreeRegressor"
   ]
  },
  {
   "cell_type": "code",
   "execution_count": 14,
   "metadata": {},
   "outputs": [],
   "source": [
    "Min_model = DecisionTreeRegressor(random_state=1)"
   ]
  },
  {
   "cell_type": "code",
   "execution_count": 15,
   "metadata": {},
   "outputs": [
    {
     "data": {
      "text/plain": [
       "DecisionTreeRegressor(random_state=1)"
      ]
     },
     "execution_count": 15,
     "metadata": {},
     "output_type": "execute_result"
    }
   ],
   "source": [
    "Min_model.fit(X,y)"
   ]
  },
  {
   "cell_type": "code",
   "execution_count": 16,
   "metadata": {},
   "outputs": [
    {
     "name": "stdout",
     "output_type": "stream",
     "text": [
      "Making predictions for the following 5 houses:\n",
      "      lats     lons postal_codes baths_fulls bedrooms building_sizes lot_sizes\n",
      "0   44.944 -93.1928        55104           2        4           3143     14375\n",
      "1  45.0055 -93.2465        55413           3        5           2448      8276\n",
      "2  44.8001 -93.2149        55122           2        4           1620      9017\n",
      "3  45.0214 -93.3437        55422           2        4           2255      5227\n",
      "4  44.9531 -93.3345        55416           3        3           2571      6098\n",
      "The predictions are\n",
      "[600000. 475000. 324900. 314999. 649900.]\n"
     ]
    }
   ],
   "source": [
    "print(\"Making predictions for the following 5 houses:\")\n",
    "print(X.head())\n",
    "print(\"The predictions are\")\n",
    "print(Min_model.predict(X.head()))\n"
   ]
  },
  {
   "cell_type": "code",
   "execution_count": 17,
   "metadata": {},
   "outputs": [],
   "source": [
    "#model validation"
   ]
  },
  {
   "cell_type": "markdown",
   "metadata": {},
   "source": [
    "# Mean Absolute Error\n",
    "This is taking the mean of the error (actual−predicted) and putting it in absolute value terms. The lower this value the more accurate the model predicted the prices."
   ]
  },
  {
   "cell_type": "code",
   "execution_count": 18,
   "metadata": {},
   "outputs": [
    {
     "data": {
      "text/html": [
       "<div>\n",
       "<style scoped>\n",
       "    .dataframe tbody tr th:only-of-type {\n",
       "        vertical-align: middle;\n",
       "    }\n",
       "\n",
       "    .dataframe tbody tr th {\n",
       "        vertical-align: top;\n",
       "    }\n",
       "\n",
       "    .dataframe thead th {\n",
       "        text-align: right;\n",
       "    }\n",
       "</style>\n",
       "<table border=\"1\" class=\"dataframe\">\n",
       "  <thead>\n",
       "    <tr style=\"text-align: right;\">\n",
       "      <th></th>\n",
       "      <th>prop_ids</th>\n",
       "      <th>urls</th>\n",
       "      <th>cities</th>\n",
       "      <th>lines</th>\n",
       "      <th>postal_codes</th>\n",
       "      <th>counties</th>\n",
       "      <th>lats</th>\n",
       "      <th>lons</th>\n",
       "      <th>prices</th>\n",
       "      <th>baths_fulls</th>\n",
       "      <th>bedrooms</th>\n",
       "      <th>building_sizes</th>\n",
       "      <th>lot_sizes</th>\n",
       "    </tr>\n",
       "  </thead>\n",
       "  <tbody>\n",
       "    <tr>\n",
       "      <th>0</th>\n",
       "      <td>M7927081518</td>\n",
       "      <td>https://www.realtor.com/realestateandhomes-det...</td>\n",
       "      <td>Saint Paul</td>\n",
       "      <td>79 Cretin Ave N</td>\n",
       "      <td>55104</td>\n",
       "      <td>Ramsey</td>\n",
       "      <td>44.944</td>\n",
       "      <td>-93.1928</td>\n",
       "      <td>600000</td>\n",
       "      <td>2</td>\n",
       "      <td>4</td>\n",
       "      <td>3143</td>\n",
       "      <td>14375</td>\n",
       "    </tr>\n",
       "    <tr>\n",
       "      <th>1</th>\n",
       "      <td>M8412373846</td>\n",
       "      <td>https://www.realtor.com/realestateandhomes-det...</td>\n",
       "      <td>Minneapolis</td>\n",
       "      <td>1716 Tyler St NE</td>\n",
       "      <td>55413</td>\n",
       "      <td>Hennepin</td>\n",
       "      <td>45.0055</td>\n",
       "      <td>-93.2465</td>\n",
       "      <td>475000</td>\n",
       "      <td>3</td>\n",
       "      <td>5</td>\n",
       "      <td>2448</td>\n",
       "      <td>8276</td>\n",
       "    </tr>\n",
       "    <tr>\n",
       "      <th>2</th>\n",
       "      <td>M7324092858</td>\n",
       "      <td>https://www.realtor.com/realestateandhomes-det...</td>\n",
       "      <td>Eagan</td>\n",
       "      <td>2094 Quartz Ln</td>\n",
       "      <td>55122</td>\n",
       "      <td>Dakota</td>\n",
       "      <td>44.8001</td>\n",
       "      <td>-93.2149</td>\n",
       "      <td>324900</td>\n",
       "      <td>2</td>\n",
       "      <td>4</td>\n",
       "      <td>1620</td>\n",
       "      <td>9017</td>\n",
       "    </tr>\n",
       "    <tr>\n",
       "      <th>3</th>\n",
       "      <td>M8405448159</td>\n",
       "      <td>https://www.realtor.com/realestateandhomes-det...</td>\n",
       "      <td>Robbinsdale</td>\n",
       "      <td>3628 Regent Ave N</td>\n",
       "      <td>55422</td>\n",
       "      <td>Hennepin</td>\n",
       "      <td>45.0214</td>\n",
       "      <td>-93.3437</td>\n",
       "      <td>314999</td>\n",
       "      <td>2</td>\n",
       "      <td>4</td>\n",
       "      <td>2255</td>\n",
       "      <td>5227</td>\n",
       "    </tr>\n",
       "    <tr>\n",
       "      <th>4</th>\n",
       "      <td>M8627783588</td>\n",
       "      <td>https://www.realtor.com/realestateandhomes-det...</td>\n",
       "      <td>Saint Louis Park</td>\n",
       "      <td>2732 Joppa Ave S</td>\n",
       "      <td>55416</td>\n",
       "      <td>Hennepin</td>\n",
       "      <td>44.9531</td>\n",
       "      <td>-93.3345</td>\n",
       "      <td>649900</td>\n",
       "      <td>3</td>\n",
       "      <td>3</td>\n",
       "      <td>2571</td>\n",
       "      <td>6098</td>\n",
       "    </tr>\n",
       "  </tbody>\n",
       "</table>\n",
       "</div>"
      ],
      "text/plain": [
       "      prop_ids                                               urls  \\\n",
       "0  M7927081518  https://www.realtor.com/realestateandhomes-det...   \n",
       "1  M8412373846  https://www.realtor.com/realestateandhomes-det...   \n",
       "2  M7324092858  https://www.realtor.com/realestateandhomes-det...   \n",
       "3  M8405448159  https://www.realtor.com/realestateandhomes-det...   \n",
       "4  M8627783588  https://www.realtor.com/realestateandhomes-det...   \n",
       "\n",
       "             cities              lines postal_codes  counties     lats  \\\n",
       "0        Saint Paul    79 Cretin Ave N        55104    Ramsey   44.944   \n",
       "1       Minneapolis   1716 Tyler St NE        55413  Hennepin  45.0055   \n",
       "2             Eagan     2094 Quartz Ln        55122    Dakota  44.8001   \n",
       "3       Robbinsdale  3628 Regent Ave N        55422  Hennepin  45.0214   \n",
       "4  Saint Louis Park   2732 Joppa Ave S        55416  Hennepin  44.9531   \n",
       "\n",
       "      lons  prices baths_fulls bedrooms building_sizes lot_sizes  \n",
       "0 -93.1928  600000           2        4           3143     14375  \n",
       "1 -93.2465  475000           3        5           2448      8276  \n",
       "2 -93.2149  324900           2        4           1620      9017  \n",
       "3 -93.3437  314999           2        4           2255      5227  \n",
       "4 -93.3345  649900           3        3           2571      6098  "
      ]
     },
     "execution_count": 18,
     "metadata": {},
     "output_type": "execute_result"
    }
   ],
   "source": [
    "df.head()"
   ]
  },
  {
   "cell_type": "code",
   "execution_count": 56,
   "metadata": {},
   "outputs": [
    {
     "data": {
      "text/plain": [
       "DecisionTreeRegressor()"
      ]
     },
     "execution_count": 56,
     "metadata": {},
     "output_type": "execute_result"
    }
   ],
   "source": [
    "# Filter rows with missing price values\n",
    "filtered_min_data = df.dropna(axis=0)\n",
    "# Choose target and features\n",
    "y = filtered_min_data.prices\n",
    "min_features = ['lats','lons','postal_codes','baths_fulls','bedrooms','building_sizes','lot_sizes']\n",
    "X = filtered_min_data[min_features]\n",
    "\n",
    "from sklearn.tree import DecisionTreeRegressor\n",
    "# Define model\n",
    "min_model = DecisionTreeRegressor()\n",
    "# Fit model\n",
    "min_model.fit(X, y)"
   ]
  },
  {
   "cell_type": "code",
   "execution_count": 20,
   "metadata": {},
   "outputs": [
    {
     "data": {
      "text/plain": [
       "0.0"
      ]
     },
     "execution_count": 20,
     "metadata": {},
     "output_type": "execute_result"
    }
   ],
   "source": [
    "from sklearn.metrics import mean_absolute_error\n",
    "\n",
    "predicted_home_prices = Min_model.predict(X)\n",
    "mean_absolute_error(y, predicted_home_prices)"
   ]
  },
  {
   "cell_type": "markdown",
   "metadata": {},
   "source": [
    "The value above seems to be way overfitted, meaning it does not generalize the results. Using a validation technique of train, test, split we can hopefully build an accurate model that generalizes the results better. The train, test, split approach \"chops up\" the obversations between two groups, a test and training group. We'll run the training group to precict price values and compare them to the test set of values."
   ]
  },
  {
   "cell_type": "code",
   "execution_count": 57,
   "metadata": {},
   "outputs": [
    {
     "name": "stdout",
     "output_type": "stream",
     "text": [
      "150870.0\n"
     ]
    }
   ],
   "source": [
    "from sklearn.model_selection import train_test_split\n",
    "\n",
    "# Splitting the y and X variables. Val_y is the test group.\n",
    "train_X, val_X, train_y, val_y = train_test_split(X, y, random_state = 1)\n",
    "# Defining model\n",
    "min_model = DecisionTreeRegressor(random_state = 1)\n",
    "# Fitting model\n",
    "min_model.fit(train_X, train_y)\n",
    "\n",
    "# get predicted prices on validation data\n",
    "val_predictions = min_model.predict(val_X)\n",
    "print(mean_absolute_error(val_y, val_predictions))"
   ]
  },
  {
   "cell_type": "markdown",
   "metadata": {},
   "source": [
    "The value driven through the train,test,split approach equals $150,870.0. This is a drastic increase indicating that the past test was possibly too accurate"
   ]
  },
  {
   "cell_type": "markdown",
   "metadata": {},
   "source": [
    "How can we know when we are going to overfit or underfit the data before we start?\n",
    "Kaggle recommends the max_leaf_nodes argument.\n",
    "This function passes five arguments into the objectives below. It then calculates the model which uses the decision tree finding many MAEs for the many different number of nodes within the decision tree model. It then fits the data, predicts the values, and outputs the MAEs"
   ]
  },
  {
   "cell_type": "code",
   "execution_count": 30,
   "metadata": {},
   "outputs": [],
   "source": [
    "from sklearn.metrics import mean_absolute_error\n",
    "from sklearn.tree import DecisionTreeRegressor\n",
    "\n",
    "def get_mae(max_leaf_nodes, train_X, val_X, train_y, val_y):\n",
    "    model = DecisionTreeRegressor(max_leaf_nodes=max_leaf_nodes, random_state=1)\n",
    "    model.fit(train_X, train_y)\n",
    "    preds_val = model.predict(val_X)\n",
    "    mae = mean_absolute_error(val_y, preds_val)\n",
    "    return(mae)"
   ]
  },
  {
   "cell_type": "code",
   "execution_count": 40,
   "metadata": {},
   "outputs": [
    {
     "name": "stdout",
     "output_type": "stream",
     "text": [
      "Max leaf nodes: 5  \t\t Mean Absolute Error:  178160\n",
      "Max leaf nodes: 50  \t\t Mean Absolute Error:  151289\n",
      "Max leaf nodes: 500  \t\t Mean Absolute Error:  151670\n",
      "Max leaf nodes: 5000  \t\t Mean Absolute Error:  151670\n"
     ]
    }
   ],
   "source": [
    "# compare MAE with differing values of max_leaf_nodes\n",
    "for max_leaf_nodes in [5, 50, 500, 5000]:\n",
    "    my_mae = get_mae(max_leaf_nodes, train_X, val_X, train_y, val_y)\n",
    "    print(\"Max leaf nodes: %d  \\t\\t Mean Absolute Error:  %d\" %(max_leaf_nodes, my_mae))"
   ]
  },
  {
   "cell_type": "code",
   "execution_count": 39,
   "metadata": {},
   "outputs": [
    {
     "name": "stdout",
     "output_type": "stream",
     "text": [
      "Max leaf nodes: 5000  \t\t Mean Absolute Error:  151670\n"
     ]
    }
   ],
   "source": [
    "candidate_max_leaf_nodes = [5, 25, 50, 100, 250, 500]\n",
    "# Write loop to find the ideal tree size from candidate_max_leaf_nodes\n",
    "scores = {leaf_size: get_mae(leaf_size, train_X, val_X, train_y, val_y) for leaf_size in candidate_max_leaf_nodes}\n",
    "print(\"Max leaf nodes: %d  \\t\\t Mean Absolute Error:  %d\" %(max_leaf_nodes, my_mae))"
   ]
  },
  {
   "cell_type": "code",
   "execution_count": 37,
   "metadata": {},
   "outputs": [],
   "source": [
    "best_tree_size = min(scores, key=scores.get)"
   ]
  },
  {
   "cell_type": "markdown",
   "metadata": {},
   "source": [
    "We can see that as we increase nodes the MAE falls then rises. Everything over 500 seems to be just as good as 500. 50 is given as the best model because it has the lowest MAE. This is because as the nodes increase the model is shrinking and predicting prices on a smaller sample. The opposite is true for a lower node and is over-generalizing the model.\n"
   ]
  },
  {
   "cell_type": "markdown",
   "metadata": {},
   "source": [
    "lets re-run the code with the data we know now."
   ]
  },
  {
   "cell_type": "code",
   "execution_count": 50,
   "metadata": {},
   "outputs": [
    {
     "name": "stdout",
     "output_type": "stream",
     "text": [
      "[630000.         466880.         347786.48648649 414048.16129032\n",
      " 466880.        ]\n"
     ]
    }
   ],
   "source": [
    "final_model = DecisionTreeRegressor(max_leaf_nodes = best_tree_size, random_state=1)\n",
    "\n",
    "# fit the final model and uncomment the next two lines\n",
    "final_model.fit(train_X, train_y)\n",
    "final_model.fit(train_X, train_y)\n",
    "predicted_home_prices = final_model.predict(train_X)\n",
    "print(final_model.predict(X.head()))"
   ]
  },
  {
   "cell_type": "code",
   "execution_count": 51,
   "metadata": {},
   "outputs": [
    {
     "name": "stdout",
     "output_type": "stream",
     "text": [
      "147385.8504509348\n"
     ]
    }
   ],
   "source": [
    "# get predicted prices on validation data\n",
    "val_predictions = final_model.predict(val_X)\n",
    "print(mean_absolute_error(val_y, val_predictions))"
   ]
  },
  {
   "cell_type": "markdown",
   "metadata": {},
   "source": [
    "We can see that the MAE has fallen using the Max leaf nodes test. This should be expected because we optimizing our model given what would have produced the best MAE. It's overall interesting to see how far the value fell compared to the train X and y of the original decision tree. The first test value: 150,870.0, the second test 147,385.8504. Roughly a 2-3k decline in MAE.\n"
   ]
  },
  {
   "cell_type": "markdown",
   "metadata": {},
   "source": [
    "# Random Forest\n"
   ]
  },
  {
   "cell_type": "markdown",
   "metadata": {},
   "source": [
    "Random forest essentially uses many trees and averages the outcomes of each tree."
   ]
  },
  {
   "cell_type": "code",
   "execution_count": 49,
   "metadata": {},
   "outputs": [
    {
     "name": "stdout",
     "output_type": "stream",
     "text": [
      "111751.546\n"
     ]
    }
   ],
   "source": [
    "from sklearn.ensemble import RandomForestRegressor\n",
    "from sklearn.metrics import mean_absolute_error\n",
    "\n",
    "forest_model = RandomForestRegressor(random_state=1)\n",
    "forest_model.fit(train_X, train_y)\n",
    "min_preds = forest_model.predict(val_X)\n",
    "print(mean_absolute_error(val_y, min_preds))"
   ]
  },
  {
   "cell_type": "markdown",
   "metadata": {},
   "source": [
    "This value is a huge leap in the accuracy of the model compared to just one decision tree. For reference:\n",
    "The first test value: 150,870.0\n",
    "the second test: 147,385.8504\n",
    "third test (Random Forest): 111,751.546"
   ]
  },
  {
   "cell_type": "code",
   "execution_count": null,
   "metadata": {},
   "outputs": [],
   "source": []
  }
 ],
 "metadata": {
  "kernelspec": {
   "display_name": "Python 3",
   "language": "python",
   "name": "python3"
  },
  "language_info": {
   "codemirror_mode": {
    "name": "ipython",
    "version": 3
   },
   "file_extension": ".py",
   "mimetype": "text/x-python",
   "name": "python",
   "nbconvert_exporter": "python",
   "pygments_lexer": "ipython3",
   "version": "3.8.3"
  }
 },
 "nbformat": 4,
 "nbformat_minor": 4
}
